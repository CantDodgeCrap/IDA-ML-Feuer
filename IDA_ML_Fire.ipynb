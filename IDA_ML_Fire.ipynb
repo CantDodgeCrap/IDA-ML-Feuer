{
  "nbformat": 4,
  "nbformat_minor": 0,
  "metadata": {
    "colab": {
      "provenance": [],
      "collapsed_sections": [],
      "toc_visible": true,
      "authorship_tag": "ABX9TyPKNn0ztIrb3lWEHAk0b0Gv",
      "include_colab_link": true
    },
    "kernelspec": {
      "name": "python3",
      "display_name": "Python 3"
    },
    "language_info": {
      "name": "python"
    }
  },
  "cells": [
    {
      "cell_type": "markdown",
      "metadata": {
        "id": "view-in-github",
        "colab_type": "text"
      },
      "source": [
        "<a href=\"https://colab.research.google.com/github/CantDodgeCrap/IDA-ML-Feuer/blob/main/IDA_ML_Fire.ipynb\" target=\"_parent\"><img src=\"https://colab.research.google.com/assets/colab-badge.svg\" alt=\"Open In Colab\"/></a>"
      ]
    },
    {
      "cell_type": "markdown",
      "source": [
        "# Load Data"
      ],
      "metadata": {
        "id": "ugGG8px6Kj1j"
      }
    },
    {
      "cell_type": "code",
      "execution_count": 1,
      "metadata": {
        "id": "g2Qz_wyPRBku"
      },
      "outputs": [],
      "source": [
        "# importing necessary tools\n",
        "\n",
        "import pandas as pd\n",
        "import numpy as np\n",
        "import matplotlib.pyplot as plt\n",
        "import seaborn as sns\n",
        "\n",
        "from sklearn import linear_model, tree\n",
        "from sklearn.model_selection import cross_val_score\n",
        "from sklearn.metrics import r2_score\n",
        "\n",
        "import requests\n",
        "import io"
      ]
    },
    {
      "cell_type": "code",
      "source": [
        "# url of the data set on github\n",
        "\n",
        "path = \"https://raw.githubusercontent.com/CantDodgeCrap/IDA-ML-Feuer/main/fires.csv?token=GHSAT0AAAAAABZPU4FHUTURBTZ4UFIL5COEY2ETTKQ\" \n",
        "download = requests.get(path).content\n",
        "\n",
        "# loading data set into dataframe\n",
        "\n",
        "df = pd.read_csv(io.StringIO(download.decode('utf-8')))\n",
        "df"
      ],
      "metadata": {
        "colab": {
          "base_uri": "https://localhost:8080/",
          "height": 424
        },
        "id": "JMB3_n8tRu7B",
        "outputId": "15798e4a-b582-4db2-9de3-b69f9bf2c91f"
      },
      "execution_count": 2,
      "outputs": [
        {
          "output_type": "execute_result",
          "data": {
            "text/plain": [
              "     X  Y month  day  FFMC    DMC     DC   ISI  temp  RH  wind  rain   area\n",
              "0    7  5   mar  fri  86.2   26.2   94.3   5.1   8.2  51   6.7   0.0   0.00\n",
              "1    7  4   oct  tue  90.6   35.4  669.1   6.7  18.0  33   0.9   0.0   0.00\n",
              "2    7  4   oct  sat  90.6   43.7  686.9   6.7  14.6  33   1.3   0.0   0.00\n",
              "3    8  6   mar  fri  91.7   33.3   77.5   9.0   8.3  97   4.0   0.2   0.00\n",
              "4    8  6   mar  sun  89.3   51.3  102.2   9.6  11.4  99   1.8   0.0   0.00\n",
              "..  .. ..   ...  ...   ...    ...    ...   ...   ...  ..   ...   ...    ...\n",
              "512  4  3   aug  sun  81.6   56.7  665.6   1.9  27.8  32   2.7   0.0   6.44\n",
              "513  2  4   aug  sun  81.6   56.7  665.6   1.9  21.9  71   5.8   0.0  54.29\n",
              "514  7  4   aug  sun  81.6   56.7  665.6   1.9  21.2  70   6.7   0.0  11.16\n",
              "515  1  4   aug  sat  94.4  146.0  614.7  11.3  25.6  42   4.0   0.0   0.00\n",
              "516  6  3   nov  tue  79.5    3.0  106.7   1.1  11.8  31   4.5   0.0   0.00\n",
              "\n",
              "[517 rows x 13 columns]"
            ],
            "text/html": [
              "\n",
              "  <div id=\"df-4122bc00-a801-47ea-83ca-96f1962fdc50\">\n",
              "    <div class=\"colab-df-container\">\n",
              "      <div>\n",
              "<style scoped>\n",
              "    .dataframe tbody tr th:only-of-type {\n",
              "        vertical-align: middle;\n",
              "    }\n",
              "\n",
              "    .dataframe tbody tr th {\n",
              "        vertical-align: top;\n",
              "    }\n",
              "\n",
              "    .dataframe thead th {\n",
              "        text-align: right;\n",
              "    }\n",
              "</style>\n",
              "<table border=\"1\" class=\"dataframe\">\n",
              "  <thead>\n",
              "    <tr style=\"text-align: right;\">\n",
              "      <th></th>\n",
              "      <th>X</th>\n",
              "      <th>Y</th>\n",
              "      <th>month</th>\n",
              "      <th>day</th>\n",
              "      <th>FFMC</th>\n",
              "      <th>DMC</th>\n",
              "      <th>DC</th>\n",
              "      <th>ISI</th>\n",
              "      <th>temp</th>\n",
              "      <th>RH</th>\n",
              "      <th>wind</th>\n",
              "      <th>rain</th>\n",
              "      <th>area</th>\n",
              "    </tr>\n",
              "  </thead>\n",
              "  <tbody>\n",
              "    <tr>\n",
              "      <th>0</th>\n",
              "      <td>7</td>\n",
              "      <td>5</td>\n",
              "      <td>mar</td>\n",
              "      <td>fri</td>\n",
              "      <td>86.2</td>\n",
              "      <td>26.2</td>\n",
              "      <td>94.3</td>\n",
              "      <td>5.1</td>\n",
              "      <td>8.2</td>\n",
              "      <td>51</td>\n",
              "      <td>6.7</td>\n",
              "      <td>0.0</td>\n",
              "      <td>0.00</td>\n",
              "    </tr>\n",
              "    <tr>\n",
              "      <th>1</th>\n",
              "      <td>7</td>\n",
              "      <td>4</td>\n",
              "      <td>oct</td>\n",
              "      <td>tue</td>\n",
              "      <td>90.6</td>\n",
              "      <td>35.4</td>\n",
              "      <td>669.1</td>\n",
              "      <td>6.7</td>\n",
              "      <td>18.0</td>\n",
              "      <td>33</td>\n",
              "      <td>0.9</td>\n",
              "      <td>0.0</td>\n",
              "      <td>0.00</td>\n",
              "    </tr>\n",
              "    <tr>\n",
              "      <th>2</th>\n",
              "      <td>7</td>\n",
              "      <td>4</td>\n",
              "      <td>oct</td>\n",
              "      <td>sat</td>\n",
              "      <td>90.6</td>\n",
              "      <td>43.7</td>\n",
              "      <td>686.9</td>\n",
              "      <td>6.7</td>\n",
              "      <td>14.6</td>\n",
              "      <td>33</td>\n",
              "      <td>1.3</td>\n",
              "      <td>0.0</td>\n",
              "      <td>0.00</td>\n",
              "    </tr>\n",
              "    <tr>\n",
              "      <th>3</th>\n",
              "      <td>8</td>\n",
              "      <td>6</td>\n",
              "      <td>mar</td>\n",
              "      <td>fri</td>\n",
              "      <td>91.7</td>\n",
              "      <td>33.3</td>\n",
              "      <td>77.5</td>\n",
              "      <td>9.0</td>\n",
              "      <td>8.3</td>\n",
              "      <td>97</td>\n",
              "      <td>4.0</td>\n",
              "      <td>0.2</td>\n",
              "      <td>0.00</td>\n",
              "    </tr>\n",
              "    <tr>\n",
              "      <th>4</th>\n",
              "      <td>8</td>\n",
              "      <td>6</td>\n",
              "      <td>mar</td>\n",
              "      <td>sun</td>\n",
              "      <td>89.3</td>\n",
              "      <td>51.3</td>\n",
              "      <td>102.2</td>\n",
              "      <td>9.6</td>\n",
              "      <td>11.4</td>\n",
              "      <td>99</td>\n",
              "      <td>1.8</td>\n",
              "      <td>0.0</td>\n",
              "      <td>0.00</td>\n",
              "    </tr>\n",
              "    <tr>\n",
              "      <th>...</th>\n",
              "      <td>...</td>\n",
              "      <td>...</td>\n",
              "      <td>...</td>\n",
              "      <td>...</td>\n",
              "      <td>...</td>\n",
              "      <td>...</td>\n",
              "      <td>...</td>\n",
              "      <td>...</td>\n",
              "      <td>...</td>\n",
              "      <td>...</td>\n",
              "      <td>...</td>\n",
              "      <td>...</td>\n",
              "      <td>...</td>\n",
              "    </tr>\n",
              "    <tr>\n",
              "      <th>512</th>\n",
              "      <td>4</td>\n",
              "      <td>3</td>\n",
              "      <td>aug</td>\n",
              "      <td>sun</td>\n",
              "      <td>81.6</td>\n",
              "      <td>56.7</td>\n",
              "      <td>665.6</td>\n",
              "      <td>1.9</td>\n",
              "      <td>27.8</td>\n",
              "      <td>32</td>\n",
              "      <td>2.7</td>\n",
              "      <td>0.0</td>\n",
              "      <td>6.44</td>\n",
              "    </tr>\n",
              "    <tr>\n",
              "      <th>513</th>\n",
              "      <td>2</td>\n",
              "      <td>4</td>\n",
              "      <td>aug</td>\n",
              "      <td>sun</td>\n",
              "      <td>81.6</td>\n",
              "      <td>56.7</td>\n",
              "      <td>665.6</td>\n",
              "      <td>1.9</td>\n",
              "      <td>21.9</td>\n",
              "      <td>71</td>\n",
              "      <td>5.8</td>\n",
              "      <td>0.0</td>\n",
              "      <td>54.29</td>\n",
              "    </tr>\n",
              "    <tr>\n",
              "      <th>514</th>\n",
              "      <td>7</td>\n",
              "      <td>4</td>\n",
              "      <td>aug</td>\n",
              "      <td>sun</td>\n",
              "      <td>81.6</td>\n",
              "      <td>56.7</td>\n",
              "      <td>665.6</td>\n",
              "      <td>1.9</td>\n",
              "      <td>21.2</td>\n",
              "      <td>70</td>\n",
              "      <td>6.7</td>\n",
              "      <td>0.0</td>\n",
              "      <td>11.16</td>\n",
              "    </tr>\n",
              "    <tr>\n",
              "      <th>515</th>\n",
              "      <td>1</td>\n",
              "      <td>4</td>\n",
              "      <td>aug</td>\n",
              "      <td>sat</td>\n",
              "      <td>94.4</td>\n",
              "      <td>146.0</td>\n",
              "      <td>614.7</td>\n",
              "      <td>11.3</td>\n",
              "      <td>25.6</td>\n",
              "      <td>42</td>\n",
              "      <td>4.0</td>\n",
              "      <td>0.0</td>\n",
              "      <td>0.00</td>\n",
              "    </tr>\n",
              "    <tr>\n",
              "      <th>516</th>\n",
              "      <td>6</td>\n",
              "      <td>3</td>\n",
              "      <td>nov</td>\n",
              "      <td>tue</td>\n",
              "      <td>79.5</td>\n",
              "      <td>3.0</td>\n",
              "      <td>106.7</td>\n",
              "      <td>1.1</td>\n",
              "      <td>11.8</td>\n",
              "      <td>31</td>\n",
              "      <td>4.5</td>\n",
              "      <td>0.0</td>\n",
              "      <td>0.00</td>\n",
              "    </tr>\n",
              "  </tbody>\n",
              "</table>\n",
              "<p>517 rows × 13 columns</p>\n",
              "</div>\n",
              "      <button class=\"colab-df-convert\" onclick=\"convertToInteractive('df-4122bc00-a801-47ea-83ca-96f1962fdc50')\"\n",
              "              title=\"Convert this dataframe to an interactive table.\"\n",
              "              style=\"display:none;\">\n",
              "        \n",
              "  <svg xmlns=\"http://www.w3.org/2000/svg\" height=\"24px\"viewBox=\"0 0 24 24\"\n",
              "       width=\"24px\">\n",
              "    <path d=\"M0 0h24v24H0V0z\" fill=\"none\"/>\n",
              "    <path d=\"M18.56 5.44l.94 2.06.94-2.06 2.06-.94-2.06-.94-.94-2.06-.94 2.06-2.06.94zm-11 1L8.5 8.5l.94-2.06 2.06-.94-2.06-.94L8.5 2.5l-.94 2.06-2.06.94zm10 10l.94 2.06.94-2.06 2.06-.94-2.06-.94-.94-2.06-.94 2.06-2.06.94z\"/><path d=\"M17.41 7.96l-1.37-1.37c-.4-.4-.92-.59-1.43-.59-.52 0-1.04.2-1.43.59L10.3 9.45l-7.72 7.72c-.78.78-.78 2.05 0 2.83L4 21.41c.39.39.9.59 1.41.59.51 0 1.02-.2 1.41-.59l7.78-7.78 2.81-2.81c.8-.78.8-2.07 0-2.86zM5.41 20L4 18.59l7.72-7.72 1.47 1.35L5.41 20z\"/>\n",
              "  </svg>\n",
              "      </button>\n",
              "      \n",
              "  <style>\n",
              "    .colab-df-container {\n",
              "      display:flex;\n",
              "      flex-wrap:wrap;\n",
              "      gap: 12px;\n",
              "    }\n",
              "\n",
              "    .colab-df-convert {\n",
              "      background-color: #E8F0FE;\n",
              "      border: none;\n",
              "      border-radius: 50%;\n",
              "      cursor: pointer;\n",
              "      display: none;\n",
              "      fill: #1967D2;\n",
              "      height: 32px;\n",
              "      padding: 0 0 0 0;\n",
              "      width: 32px;\n",
              "    }\n",
              "\n",
              "    .colab-df-convert:hover {\n",
              "      background-color: #E2EBFA;\n",
              "      box-shadow: 0px 1px 2px rgba(60, 64, 67, 0.3), 0px 1px 3px 1px rgba(60, 64, 67, 0.15);\n",
              "      fill: #174EA6;\n",
              "    }\n",
              "\n",
              "    [theme=dark] .colab-df-convert {\n",
              "      background-color: #3B4455;\n",
              "      fill: #D2E3FC;\n",
              "    }\n",
              "\n",
              "    [theme=dark] .colab-df-convert:hover {\n",
              "      background-color: #434B5C;\n",
              "      box-shadow: 0px 1px 3px 1px rgba(0, 0, 0, 0.15);\n",
              "      filter: drop-shadow(0px 1px 2px rgba(0, 0, 0, 0.3));\n",
              "      fill: #FFFFFF;\n",
              "    }\n",
              "  </style>\n",
              "\n",
              "      <script>\n",
              "        const buttonEl =\n",
              "          document.querySelector('#df-4122bc00-a801-47ea-83ca-96f1962fdc50 button.colab-df-convert');\n",
              "        buttonEl.style.display =\n",
              "          google.colab.kernel.accessAllowed ? 'block' : 'none';\n",
              "\n",
              "        async function convertToInteractive(key) {\n",
              "          const element = document.querySelector('#df-4122bc00-a801-47ea-83ca-96f1962fdc50');\n",
              "          const dataTable =\n",
              "            await google.colab.kernel.invokeFunction('convertToInteractive',\n",
              "                                                     [key], {});\n",
              "          if (!dataTable) return;\n",
              "\n",
              "          const docLinkHtml = 'Like what you see? Visit the ' +\n",
              "            '<a target=\"_blank\" href=https://colab.research.google.com/notebooks/data_table.ipynb>data table notebook</a>'\n",
              "            + ' to learn more about interactive tables.';\n",
              "          element.innerHTML = '';\n",
              "          dataTable['output_type'] = 'display_data';\n",
              "          await google.colab.output.renderOutput(dataTable, element);\n",
              "          const docLink = document.createElement('div');\n",
              "          docLink.innerHTML = docLinkHtml;\n",
              "          element.appendChild(docLink);\n",
              "        }\n",
              "      </script>\n",
              "    </div>\n",
              "  </div>\n",
              "  "
            ]
          },
          "metadata": {},
          "execution_count": 2
        }
      ]
    },
    {
      "cell_type": "code",
      "source": [
        "# overview of the data sets properties\n",
        "\n",
        "print('The dataframe has the dimensions: ', df.shape)\n",
        "print('It has the following properties: ', '\\n\\n')\n",
        "print(df.info())"
      ],
      "metadata": {
        "colab": {
          "base_uri": "https://localhost:8080/"
        },
        "id": "tks0qf1FVKUk",
        "outputId": "b342272b-b285-46e5-e785-e7496bfe5207"
      },
      "execution_count": 3,
      "outputs": [
        {
          "output_type": "stream",
          "name": "stdout",
          "text": [
            "The dataframe has the dimensions:  (517, 13)\n",
            "It has the following properties:  \n",
            "\n",
            "\n",
            "<class 'pandas.core.frame.DataFrame'>\n",
            "RangeIndex: 517 entries, 0 to 516\n",
            "Data columns (total 13 columns):\n",
            " #   Column  Non-Null Count  Dtype  \n",
            "---  ------  --------------  -----  \n",
            " 0   X       517 non-null    int64  \n",
            " 1   Y       517 non-null    int64  \n",
            " 2   month   517 non-null    object \n",
            " 3   day     517 non-null    object \n",
            " 4   FFMC    517 non-null    float64\n",
            " 5   DMC     517 non-null    float64\n",
            " 6   DC      517 non-null    float64\n",
            " 7   ISI     517 non-null    float64\n",
            " 8   temp    517 non-null    float64\n",
            " 9   RH      517 non-null    int64  \n",
            " 10  wind    517 non-null    float64\n",
            " 11  rain    517 non-null    float64\n",
            " 12  area    517 non-null    float64\n",
            "dtypes: float64(8), int64(3), object(2)\n",
            "memory usage: 52.6+ KB\n",
            "None\n"
          ]
        }
      ]
    },
    {
      "cell_type": "markdown",
      "source": [
        "# Data pre-processing"
      ],
      "metadata": {
        "id": "WSJwfSrzKtoB"
      }
    },
    {
      "cell_type": "code",
      "source": [
        "# the assignment advised transforming uneven distributed attributes like \"area\"\n",
        "# it seems therefore useful to check other columns too by checking their histograms\n",
        "\n",
        "df.hist(column = ['FFMC', 'DMC', 'DC', 'ISI', 'temp', 'RH', 'wind', 'rain','area'], figsize=(15,15))"
      ],
      "metadata": {
        "colab": {
          "base_uri": "https://localhost:8080/",
          "height": 1000
        },
        "id": "Bxkky8SISD1w",
        "outputId": "2ad90d5a-5b68-46e3-c10b-ceb50e4c97b1"
      },
      "execution_count": 4,
      "outputs": [
        {
          "output_type": "execute_result",
          "data": {
            "text/plain": [
              "array([[<matplotlib.axes._subplots.AxesSubplot object at 0x7f4a0ed45d10>,\n",
              "        <matplotlib.axes._subplots.AxesSubplot object at 0x7f4a0ecb52d0>,\n",
              "        <matplotlib.axes._subplots.AxesSubplot object at 0x7f4a0ec6c8d0>],\n",
              "       [<matplotlib.axes._subplots.AxesSubplot object at 0x7f4a0eca5ed0>,\n",
              "        <matplotlib.axes._subplots.AxesSubplot object at 0x7f4a0ebe8510>,\n",
              "        <matplotlib.axes._subplots.AxesSubplot object at 0x7f4a0ec1cb10>],\n",
              "       [<matplotlib.axes._subplots.AxesSubplot object at 0x7f4a0ebe01d0>,\n",
              "        <matplotlib.axes._subplots.AxesSubplot object at 0x7f4a0eb96710>,\n",
              "        <matplotlib.axes._subplots.AxesSubplot object at 0x7f4a0eb96750>]],\n",
              "      dtype=object)"
            ]
          },
          "metadata": {},
          "execution_count": 4
        },
        {
          "output_type": "display_data",
          "data": {
            "text/plain": [
              "<Figure size 1080x1080 with 9 Axes>"
            ],
            "image/png": "[encoded data removed]"
          },
          "metadata": {
            "needs_background": "light"
          }
        }
      ]
    },
    {
      "cell_type": "code",
      "source": [
        "# transforming the \"area\" attribute\n",
        "\n",
        "df['area_trans'] = np.log(1 + df['area'])\n",
        "df[['area', 'area_trans']]"
      ],
      "metadata": {
        "colab": {
          "base_uri": "https://localhost:8080/",
          "height": 424
        },
        "id": "7BZxy47VXJi4",
        "outputId": "cdb757d6-6eea-4c2e-fa9b-b04aa9bd9e83"
      },
      "execution_count": 5,
      "outputs": [
        {
          "output_type": "execute_result",
          "data": {
            "text/plain": [
              "      area  area_trans\n",
              "0     0.00    0.000000\n",
              "1     0.00    0.000000\n",
              "2     0.00    0.000000\n",
              "3     0.00    0.000000\n",
              "4     0.00    0.000000\n",
              "..     ...         ...\n",
              "512   6.44    2.006871\n",
              "513  54.29    4.012592\n",
              "514  11.16    2.498152\n",
              "515   0.00    0.000000\n",
              "516   0.00    0.000000\n",
              "\n",
              "[517 rows x 2 columns]"
            ],
            "text/html": [
              "\n",
              "  <div id=\"df-7df08ad1-7e72-4454-a2fa-61a4841fd890\">\n",
              "    <div class=\"colab-df-container\">\n",
              "      <div>\n",
              "<style scoped>\n",
              "    .dataframe tbody tr th:only-of-type {\n",
              "        vertical-align: middle;\n",
              "    }\n",
              "\n",
              "    .dataframe tbody tr th {\n",
              "        vertical-align: top;\n",
              "    }\n",
              "\n",
              "    .dataframe thead th {\n",
              "        text-align: right;\n",
              "    }\n",
              "</style>\n",
              "<table border=\"1\" class=\"dataframe\">\n",
              "  <thead>\n",
              "    <tr style=\"text-align: right;\">\n",
              "      <th></th>\n",
              "      <th>area</th>\n",
              "      <th>area_trans</th>\n",
              "    </tr>\n",
              "  </thead>\n",
              "  <tbody>\n",
              "    <tr>\n",
              "      <th>0</th>\n",
              "      <td>0.00</td>\n",
              "      <td>0.000000</td>\n",
              "    </tr>\n",
              "    <tr>\n",
              "      <th>1</th>\n",
              "      <td>0.00</td>\n",
              "      <td>0.000000</td>\n",
              "    </tr>\n",
              "    <tr>\n",
              "      <th>2</th>\n",
              "      <td>0.00</td>\n",
              "      <td>0.000000</td>\n",
              "    </tr>\n",
              "    <tr>\n",
              "      <th>3</th>\n",
              "      <td>0.00</td>\n",
              "      <td>0.000000</td>\n",
              "    </tr>\n",
              "    <tr>\n",
              "      <th>4</th>\n",
              "      <td>0.00</td>\n",
              "      <td>0.000000</td>\n",
              "    </tr>\n",
              "    <tr>\n",
              "      <th>...</th>\n",
              "      <td>...</td>\n",
              "      <td>...</td>\n",
              "    </tr>\n",
              "    <tr>\n",
              "      <th>512</th>\n",
              "      <td>6.44</td>\n",
              "      <td>2.006871</td>\n",
              "    </tr>\n",
              "    <tr>\n",
              "      <th>513</th>\n",
              "      <td>54.29</td>\n",
              "      <td>4.012592</td>\n",
              "    </tr>\n",
              "    <tr>\n",
              "      <th>514</th>\n",
              "      <td>11.16</td>\n",
              "      <td>2.498152</td>\n",
              "    </tr>\n",
              "    <tr>\n",
              "      <th>515</th>\n",
              "      <td>0.00</td>\n",
              "      <td>0.000000</td>\n",
              "    </tr>\n",
              "    <tr>\n",
              "      <th>516</th>\n",
              "      <td>0.00</td>\n",
              "      <td>0.000000</td>\n",
              "    </tr>\n",
              "  </tbody>\n",
              "</table>\n",
              "<p>517 rows × 2 columns</p>\n",
              "</div>\n",
              "      <button class=\"colab-df-convert\" onclick=\"convertToInteractive('df-7df08ad1-7e72-4454-a2fa-61a4841fd890')\"\n",
              "              title=\"Convert this dataframe to an interactive table.\"\n",
              "              style=\"display:none;\">\n",
              "        \n",
              "  <svg xmlns=\"http://www.w3.org/2000/svg\" height=\"24px\"viewBox=\"0 0 24 24\"\n",
              "       width=\"24px\">\n",
              "    <path d=\"M0 0h24v24H0V0z\" fill=\"none\"/>\n",
              "    <path d=\"M18.56 5.44l.94 2.06.94-2.06 2.06-.94-2.06-.94-.94-2.06-.94 2.06-2.06.94zm-11 1L8.5 8.5l.94-2.06 2.06-.94-2.06-.94L8.5 2.5l-.94 2.06-2.06.94zm10 10l.94 2.06.94-2.06 2.06-.94-2.06-.94-.94-2.06-.94 2.06-2.06.94z\"/><path d=\"M17.41 7.96l-1.37-1.37c-.4-.4-.92-.59-1.43-.59-.52 0-1.04.2-1.43.59L10.3 9.45l-7.72 7.72c-.78.78-.78 2.05 0 2.83L4 21.41c.39.39.9.59 1.41.59.51 0 1.02-.2 1.41-.59l7.78-7.78 2.81-2.81c.8-.78.8-2.07 0-2.86zM5.41 20L4 18.59l7.72-7.72 1.47 1.35L5.41 20z\"/>\n",
              "  </svg>\n",
              "      </button>\n",
              "      \n",
              "  <style>\n",
              "    .colab-df-container {\n",
              "      display:flex;\n",
              "      flex-wrap:wrap;\n",
              "      gap: 12px;\n",
              "    }\n",
              "\n",
              "    .colab-df-convert {\n",
              "      background-color: #E8F0FE;\n",
              "      border: none;\n",
              "      border-radius: 50%;\n",
              "      cursor: pointer;\n",
              "      display: none;\n",
              "      fill: #1967D2;\n",
              "      height: 32px;\n",
              "      padding: 0 0 0 0;\n",
              "      width: 32px;\n",
              "    }\n",
              "\n",
              "    .colab-df-convert:hover {\n",
              "      background-color: #E2EBFA;\n",
              "      box-shadow: 0px 1px 2px rgba(60, 64, 67, 0.3), 0px 1px 3px 1px rgba(60, 64, 67, 0.15);\n",
              "      fill: #174EA6;\n",
              "    }\n",
              "\n",
              "    [theme=dark] .colab-df-convert {\n",
              "      background-color: #3B4455;\n",
              "      fill: #D2E3FC;\n",
              "    }\n",
              "\n",
              "    [theme=dark] .colab-df-convert:hover {\n",
              "      background-color: #434B5C;\n",
              "      box-shadow: 0px 1px 3px 1px rgba(0, 0, 0, 0.15);\n",
              "      filter: drop-shadow(0px 1px 2px rgba(0, 0, 0, 0.3));\n",
              "      fill: #FFFFFF;\n",
              "    }\n",
              "  </style>\n",
              "\n",
              "      <script>\n",
              "        const buttonEl =\n",
              "          document.querySelector('#df-7df08ad1-7e72-4454-a2fa-61a4841fd890 button.colab-df-convert');\n",
              "        buttonEl.style.display =\n",
              "          google.colab.kernel.accessAllowed ? 'block' : 'none';\n",
              "\n",
              "        async function convertToInteractive(key) {\n",
              "          const element = document.querySelector('#df-7df08ad1-7e72-4454-a2fa-61a4841fd890');\n",
              "          const dataTable =\n",
              "            await google.colab.kernel.invokeFunction('convertToInteractive',\n",
              "                                                     [key], {});\n",
              "          if (!dataTable) return;\n",
              "\n",
              "          const docLinkHtml = 'Like what you see? Visit the ' +\n",
              "            '<a target=\"_blank\" href=https://colab.research.google.com/notebooks/data_table.ipynb>data table notebook</a>'\n",
              "            + ' to learn more about interactive tables.';\n",
              "          element.innerHTML = '';\n",
              "          dataTable['output_type'] = 'display_data';\n",
              "          await google.colab.output.renderOutput(dataTable, element);\n",
              "          const docLink = document.createElement('div');\n",
              "          docLink.innerHTML = docLinkHtml;\n",
              "          element.appendChild(docLink);\n",
              "        }\n",
              "      </script>\n",
              "    </div>\n",
              "  </div>\n",
              "  "
            ]
          },
          "metadata": {},
          "execution_count": 5
        }
      ]
    },
    {
      "cell_type": "code",
      "source": [
        "# comparison of the old and new columns\n",
        "\n",
        "df.hist(column = ['area', 'area_trans'])"
      ],
      "metadata": {
        "colab": {
          "base_uri": "https://localhost:8080/",
          "height": 333
        },
        "id": "I7yhNcXJYM3b",
        "outputId": "98b8186a-aa63-4244-8600-2f3d10b9cb97"
      },
      "execution_count": 6,
      "outputs": [
        {
          "output_type": "execute_result",
          "data": {
            "text/plain": [
              "array([[<matplotlib.axes._subplots.AxesSubplot object at 0x7f4a0edd7c10>,\n",
              "        <matplotlib.axes._subplots.AxesSubplot object at 0x7f4a0e3789d0>]],\n",
              "      dtype=object)"
            ]
          },
          "metadata": {},
          "execution_count": 6
        },
        {
          "output_type": "display_data",
          "data": {
            "text/plain": [
              "<Figure size 432x288 with 2 Axes>"
            ],
            "image/png": "[encoded data removed]"
          },
          "metadata": {
            "needs_background": "light"
          }
        }
      ]
    },
    {
      "cell_type": "code",
      "source": [
        "# dropping the original (pre-transformed) column\n",
        "\n",
        "df = df.drop(['area'], axis = 1)"
      ],
      "metadata": {
        "id": "d3f8q6PEh1nx"
      },
      "execution_count": 7,
      "outputs": []
    },
    {
      "cell_type": "code",
      "source": [
        "# checking if other attributes can be densed up too\n",
        "\n",
        "df['rain_trans'] = np.log(1 + df['rain'])\n",
        "df[['rain', 'rain_trans']]"
      ],
      "metadata": {
        "colab": {
          "base_uri": "https://localhost:8080/",
          "height": 424
        },
        "id": "wckQ-4b0ZQpA",
        "outputId": "8e53dbb9-12b1-4c2c-d614-88c21df412e6"
      },
      "execution_count": 8,
      "outputs": [
        {
          "output_type": "execute_result",
          "data": {
            "text/plain": [
              "     rain  rain_trans\n",
              "0     0.0    0.000000\n",
              "1     0.0    0.000000\n",
              "2     0.0    0.000000\n",
              "3     0.2    0.182322\n",
              "4     0.0    0.000000\n",
              "..    ...         ...\n",
              "512   0.0    0.000000\n",
              "513   0.0    0.000000\n",
              "514   0.0    0.000000\n",
              "515   0.0    0.000000\n",
              "516   0.0    0.000000\n",
              "\n",
              "[517 rows x 2 columns]"
            ],
            "text/html": [
              "\n",
              "  <div id=\"df-d7bd8722-811f-45e4-a384-0cecbdb292f5\">\n",
              "    <div class=\"colab-df-container\">\n",
              "      <div>\n",
              "<style scoped>\n",
              "    .dataframe tbody tr th:only-of-type {\n",
              "        vertical-align: middle;\n",
              "    }\n",
              "\n",
              "    .dataframe tbody tr th {\n",
              "        vertical-align: top;\n",
              "    }\n",
              "\n",
              "    .dataframe thead th {\n",
              "        text-align: right;\n",
              "    }\n",
              "</style>\n",
              "<table border=\"1\" class=\"dataframe\">\n",
              "  <thead>\n",
              "    <tr style=\"text-align: right;\">\n",
              "      <th></th>\n",
              "      <th>rain</th>\n",
              "      <th>rain_trans</th>\n",
              "    </tr>\n",
              "  </thead>\n",
              "  <tbody>\n",
              "    <tr>\n",
              "      <th>0</th>\n",
              "      <td>0.0</td>\n",
              "      <td>0.000000</td>\n",
              "    </tr>\n",
              "    <tr>\n",
              "      <th>1</th>\n",
              "      <td>0.0</td>\n",
              "      <td>0.000000</td>\n",
              "    </tr>\n",
              "    <tr>\n",
              "      <th>2</th>\n",
              "      <td>0.0</td>\n",
              "      <td>0.000000</td>\n",
              "    </tr>\n",
              "    <tr>\n",
              "      <th>3</th>\n",
              "      <td>0.2</td>\n",
              "      <td>0.182322</td>\n",
              "    </tr>\n",
              "    <tr>\n",
              "      <th>4</th>\n",
              "      <td>0.0</td>\n",
              "      <td>0.000000</td>\n",
              "    </tr>\n",
              "    <tr>\n",
              "      <th>...</th>\n",
              "      <td>...</td>\n",
              "      <td>...</td>\n",
              "    </tr>\n",
              "    <tr>\n",
              "      <th>512</th>\n",
              "      <td>0.0</td>\n",
              "      <td>0.000000</td>\n",
              "    </tr>\n",
              "    <tr>\n",
              "      <th>513</th>\n",
              "      <td>0.0</td>\n",
              "      <td>0.000000</td>\n",
              "    </tr>\n",
              "    <tr>\n",
              "      <th>514</th>\n",
              "      <td>0.0</td>\n",
              "      <td>0.000000</td>\n",
              "    </tr>\n",
              "    <tr>\n",
              "      <th>515</th>\n",
              "      <td>0.0</td>\n",
              "      <td>0.000000</td>\n",
              "    </tr>\n",
              "    <tr>\n",
              "      <th>516</th>\n",
              "      <td>0.0</td>\n",
              "      <td>0.000000</td>\n",
              "    </tr>\n",
              "  </tbody>\n",
              "</table>\n",
              "<p>517 rows × 2 columns</p>\n",
              "</div>\n",
              "      <button class=\"colab-df-convert\" onclick=\"convertToInteractive('df-d7bd8722-811f-45e4-a384-0cecbdb292f5')\"\n",
              "              title=\"Convert this dataframe to an interactive table.\"\n",
              "              style=\"display:none;\">\n",
              "        \n",
              "  <svg xmlns=\"http://www.w3.org/2000/svg\" height=\"24px\"viewBox=\"0 0 24 24\"\n",
              "       width=\"24px\">\n",
              "    <path d=\"M0 0h24v24H0V0z\" fill=\"none\"/>\n",
              "    <path d=\"M18.56 5.44l.94 2.06.94-2.06 2.06-.94-2.06-.94-.94-2.06-.94 2.06-2.06.94zm-11 1L8.5 8.5l.94-2.06 2.06-.94-2.06-.94L8.5 2.5l-.94 2.06-2.06.94zm10 10l.94 2.06.94-2.06 2.06-.94-2.06-.94-.94-2.06-.94 2.06-2.06.94z\"/><path d=\"M17.41 7.96l-1.37-1.37c-.4-.4-.92-.59-1.43-.59-.52 0-1.04.2-1.43.59L10.3 9.45l-7.72 7.72c-.78.78-.78 2.05 0 2.83L4 21.41c.39.39.9.59 1.41.59.51 0 1.02-.2 1.41-.59l7.78-7.78 2.81-2.81c.8-.78.8-2.07 0-2.86zM5.41 20L4 18.59l7.72-7.72 1.47 1.35L5.41 20z\"/>\n",
              "  </svg>\n",
              "      </button>\n",
              "      \n",
              "  <style>\n",
              "    .colab-df-container {\n",
              "      display:flex;\n",
              "      flex-wrap:wrap;\n",
              "      gap: 12px;\n",
              "    }\n",
              "\n",
              "    .colab-df-convert {\n",
              "      background-color: #E8F0FE;\n",
              "      border: none;\n",
              "      border-radius: 50%;\n",
              "      cursor: pointer;\n",
              "      display: none;\n",
              "      fill: #1967D2;\n",
              "      height: 32px;\n",
              "      padding: 0 0 0 0;\n",
              "      width: 32px;\n",
              "    }\n",
              "\n",
              "    .colab-df-convert:hover {\n",
              "      background-color: #E2EBFA;\n",
              "      box-shadow: 0px 1px 2px rgba(60, 64, 67, 0.3), 0px 1px 3px 1px rgba(60, 64, 67, 0.15);\n",
              "      fill: #174EA6;\n",
              "    }\n",
              "\n",
              "    [theme=dark] .colab-df-convert {\n",
              "      background-color: #3B4455;\n",
              "      fill: #D2E3FC;\n",
              "    }\n",
              "\n",
              "    [theme=dark] .colab-df-convert:hover {\n",
              "      background-color: #434B5C;\n",
              "      box-shadow: 0px 1px 3px 1px rgba(0, 0, 0, 0.15);\n",
              "      filter: drop-shadow(0px 1px 2px rgba(0, 0, 0, 0.3));\n",
              "      fill: #FFFFFF;\n",
              "    }\n",
              "  </style>\n",
              "\n",
              "      <script>\n",
              "        const buttonEl =\n",
              "          document.querySelector('#df-d7bd8722-811f-45e4-a384-0cecbdb292f5 button.colab-df-convert');\n",
              "        buttonEl.style.display =\n",
              "          google.colab.kernel.accessAllowed ? 'block' : 'none';\n",
              "\n",
              "        async function convertToInteractive(key) {\n",
              "          const element = document.querySelector('#df-d7bd8722-811f-45e4-a384-0cecbdb292f5');\n",
              "          const dataTable =\n",
              "            await google.colab.kernel.invokeFunction('convertToInteractive',\n",
              "                                                     [key], {});\n",
              "          if (!dataTable) return;\n",
              "\n",
              "          const docLinkHtml = 'Like what you see? Visit the ' +\n",
              "            '<a target=\"_blank\" href=https://colab.research.google.com/notebooks/data_table.ipynb>data table notebook</a>'\n",
              "            + ' to learn more about interactive tables.';\n",
              "          element.innerHTML = '';\n",
              "          dataTable['output_type'] = 'display_data';\n",
              "          await google.colab.output.renderOutput(dataTable, element);\n",
              "          const docLink = document.createElement('div');\n",
              "          docLink.innerHTML = docLinkHtml;\n",
              "          element.appendChild(docLink);\n",
              "        }\n",
              "      </script>\n",
              "    </div>\n",
              "  </div>\n",
              "  "
            ]
          },
          "metadata": {},
          "execution_count": 8
        }
      ]
    },
    {
      "cell_type": "code",
      "source": [
        "# no changes since values were in the same range already\n",
        "\n",
        "df.hist(column = ['rain', 'rain_trans'])"
      ],
      "metadata": {
        "colab": {
          "base_uri": "https://localhost:8080/",
          "height": 333
        },
        "id": "DKhuRp3dZ0sN",
        "outputId": "17bdf942-5014-4c24-f12a-9dd4efc7add5"
      },
      "execution_count": 9,
      "outputs": [
        {
          "output_type": "execute_result",
          "data": {
            "text/plain": [
              "array([[<matplotlib.axes._subplots.AxesSubplot object at 0x7f4a0e2c8790>,\n",
              "        <matplotlib.axes._subplots.AxesSubplot object at 0x7f4a0ebaf990>]],\n",
              "      dtype=object)"
            ]
          },
          "metadata": {},
          "execution_count": 9
        },
        {
          "output_type": "display_data",
          "data": {
            "text/plain": [
              "<Figure size 432x288 with 2 Axes>"
            ],
            "image/png": "[encoded data removed]"
          },
          "metadata": {
            "needs_background": "light"
          }
        }
      ]
    },
    {
      "cell_type": "code",
      "source": [
        "# dropping the unnecessary transformed data\n",
        "\n",
        "df = df.drop(['rain_trans'], axis = 1)"
      ],
      "metadata": {
        "id": "yKO9hM4WhmqY"
      },
      "execution_count": 10,
      "outputs": []
    },
    {
      "cell_type": "code",
      "source": [
        "# testing any irregularities when it comes too outliers\n",
        "# performing Z-Score Normalization\n",
        "\n",
        "df_unnormal = df[['FFMC', 'ISI', 'rain','DC', 'DMC']]\n",
        "\n",
        "dfz = (df_unnormal - df_unnormal.mean()) / df_unnormal.std()\n",
        "dfz.hist(figsize=(10,10))"
      ],
      "metadata": {
        "id": "kExLhvufZ33I",
        "outputId": "a967c2d7-cc27-4551-8294-0ceeddcb41cd",
        "colab": {
          "base_uri": "https://localhost:8080/",
          "height": 729
        }
      },
      "execution_count": 11,
      "outputs": [
        {
          "output_type": "execute_result",
          "data": {
            "text/plain": [
              "array([[<matplotlib.axes._subplots.AxesSubplot object at 0x7f4a0f4a81d0>,\n",
              "        <matplotlib.axes._subplots.AxesSubplot object at 0x7f4a0e1d18d0>],\n",
              "       [<matplotlib.axes._subplots.AxesSubplot object at 0x7f4a0e187ed0>,\n",
              "        <matplotlib.axes._subplots.AxesSubplot object at 0x7f4a0e149510>],\n",
              "       [<matplotlib.axes._subplots.AxesSubplot object at 0x7f4a0e101b10>,\n",
              "        <matplotlib.axes._subplots.AxesSubplot object at 0x7f4a0e0c5150>]],\n",
              "      dtype=object)"
            ]
          },
          "metadata": {},
          "execution_count": 11
        },
        {
          "output_type": "display_data",
          "data": {
            "text/plain": [
              "<Figure size 720x720 with 6 Axes>"
            ],
            "image/png": "[encoded data removed]"
          },
          "metadata": {
            "needs_background": "light"
          }
        }
      ]
    },
    {
      "cell_type": "code",
      "source": [
        "# as expected no changes because the diagrams did not give a hint on outliers in the first place (which Z-score Nomalization can spot and flat out)\n",
        "\n",
        "df.hist(column = ['FFMC', 'ISI', 'rain','DC', 'DMC'], figsize=(10,10))"
      ],
      "metadata": {
        "id": "7_O8xDbIEn1B",
        "outputId": "8630e233-52c6-4f18-d784-1fdefa4cbf3b",
        "colab": {
          "base_uri": "https://localhost:8080/",
          "height": 729
        }
      },
      "execution_count": 12,
      "outputs": [
        {
          "output_type": "execute_result",
          "data": {
            "text/plain": [
              "array([[<matplotlib.axes._subplots.AxesSubplot object at 0x7f4a0df01550>,\n",
              "        <matplotlib.axes._subplots.AxesSubplot object at 0x7f4a0ded5490>],\n",
              "       [<matplotlib.axes._subplots.AxesSubplot object at 0x7f4a0de87710>,\n",
              "        <matplotlib.axes._subplots.AxesSubplot object at 0x7f4a0de3cc10>],\n",
              "       [<matplotlib.axes._subplots.AxesSubplot object at 0x7f4a0de02110>,\n",
              "        <matplotlib.axes._subplots.AxesSubplot object at 0x7f4a0ddb6610>]],\n",
              "      dtype=object)"
            ]
          },
          "metadata": {},
          "execution_count": 12
        },
        {
          "output_type": "display_data",
          "data": {
            "text/plain": [
              "<Figure size 720x720 with 6 Axes>"
            ],
            "image/png": "[encoded data removed]"
          },
          "metadata": {
            "needs_background": "light"
          }
        }
      ]
    },
    {
      "cell_type": "code",
      "source": [
        "# the next four cells represent the effort of transforming the \"day\" and \"month\" column into numerical values for processing\n",
        "# but since the date is just metadata of a row it does not influence the target value, the idea was scraped (saved the code for visualization of the thought process)\n",
        "\n",
        "#df['month'].unique()"
      ],
      "metadata": {
        "id": "YMBuM7Q5qyaq"
      },
      "execution_count": 13,
      "outputs": []
    },
    {
      "cell_type": "code",
      "source": [
        "#df['day'].unique()"
      ],
      "metadata": {
        "id": "49unNpbysH7O"
      },
      "execution_count": 14,
      "outputs": []
    },
    {
      "cell_type": "code",
      "source": [
        "# dict_month = {'jan': 1,\n",
        "#               'feb': 2,\n",
        "#               'mar': 3,\n",
        "#               'apr': 4,\n",
        "#               'may': 5,\n",
        "#               'jun': 6,\n",
        "#               'jul': 7,\n",
        "#               'aug': 8,\n",
        "#               'sep': 9,\n",
        "#               'oct': 10,\n",
        "#               'nov': 11,\n",
        "#               'dec': 12}\n",
        "# df = df.replace({\"month\": dict_month})              "
      ],
      "metadata": {
        "id": "d_m64nqMqP9l"
      },
      "execution_count": 15,
      "outputs": []
    },
    {
      "cell_type": "code",
      "source": [
        "# dict_day = {'mon': 1,\n",
        "#             'tue': 2,\n",
        "#             'wed': 3,\n",
        "#             'thu': 4,\n",
        "#             'fri': 5,\n",
        "#             'sat': 6,\n",
        "#             'sun': 7}\n",
        "# df = df.replace({\"day\": dict_day}) "
      ],
      "metadata": {
        "id": "64X0b8mosEhw"
      },
      "execution_count": 16,
      "outputs": []
    },
    {
      "cell_type": "code",
      "source": [
        "# Summing up all possible NA- and NULL-values in the data set\n",
        "\n",
        "na_values = df.isna().values.sum()\n",
        "null_values = df.isnull().values.sum()\n",
        "\n",
        "print('There is/are', na_values ,\"N/A value(s) in the given dataset.\")\n",
        "print('There is/are', null_values ,\"NULL value(s) in the given dataset.\")\n",
        "# none are found, therefor nothing needs to be done "
      ],
      "metadata": {
        "id": "DM6g36yvFF1h",
        "outputId": "3c2e68a6-3f3d-451d-cc0a-7f2957cde338",
        "colab": {
          "base_uri": "https://localhost:8080/"
        }
      },
      "execution_count": 17,
      "outputs": [
        {
          "output_type": "stream",
          "name": "stdout",
          "text": [
            "There is/are 0 N/A value(s) in the given dataset.\n",
            "There is/are 0 NULL value(s) in the given dataset.\n"
          ]
        }
      ]
    },
    {
      "cell_type": "code",
      "source": [
        "# removing the columns that contain metadata, which does't contibute to the target variable\n",
        "\n",
        "df = df.drop(['day', 'month', 'X', 'Y'], axis=1)\n",
        "df"
      ],
      "metadata": {
        "id": "t9r1v9MIfq-q",
        "outputId": "bd006e96-3ce5-4882-90c6-b482cb375924",
        "colab": {
          "base_uri": "https://localhost:8080/",
          "height": 424
        }
      },
      "execution_count": 18,
      "outputs": [
        {
          "output_type": "execute_result",
          "data": {
            "text/plain": [
              "     FFMC    DMC     DC   ISI  temp  RH  wind  rain  area_trans\n",
              "0    86.2   26.2   94.3   5.1   8.2  51   6.7   0.0    0.000000\n",
              "1    90.6   35.4  669.1   6.7  18.0  33   0.9   0.0    0.000000\n",
              "2    90.6   43.7  686.9   6.7  14.6  33   1.3   0.0    0.000000\n",
              "3    91.7   33.3   77.5   9.0   8.3  97   4.0   0.2    0.000000\n",
              "4    89.3   51.3  102.2   9.6  11.4  99   1.8   0.0    0.000000\n",
              "..    ...    ...    ...   ...   ...  ..   ...   ...         ...\n",
              "512  81.6   56.7  665.6   1.9  27.8  32   2.7   0.0    2.006871\n",
              "513  81.6   56.7  665.6   1.9  21.9  71   5.8   0.0    4.012592\n",
              "514  81.6   56.7  665.6   1.9  21.2  70   6.7   0.0    2.498152\n",
              "515  94.4  146.0  614.7  11.3  25.6  42   4.0   0.0    0.000000\n",
              "516  79.5    3.0  106.7   1.1  11.8  31   4.5   0.0    0.000000\n",
              "\n",
              "[517 rows x 9 columns]"
            ],
            "text/html": [
              "\n",
              "  <div id=\"df-c7b7d34e-b1ff-4815-814c-2c514cb000d6\">\n",
              "    <div class=\"colab-df-container\">\n",
              "      <div>\n",
              "<style scoped>\n",
              "    .dataframe tbody tr th:only-of-type {\n",
              "        vertical-align: middle;\n",
              "    }\n",
              "\n",
              "    .dataframe tbody tr th {\n",
              "        vertical-align: top;\n",
              "    }\n",
              "\n",
              "    .dataframe thead th {\n",
              "        text-align: right;\n",
              "    }\n",
              "</style>\n",
              "<table border=\"1\" class=\"dataframe\">\n",
              "  <thead>\n",
              "    <tr style=\"text-align: right;\">\n",
              "      <th></th>\n",
              "      <th>FFMC</th>\n",
              "      <th>DMC</th>\n",
              "      <th>DC</th>\n",
              "      <th>ISI</th>\n",
              "      <th>temp</th>\n",
              "      <th>RH</th>\n",
              "      <th>wind</th>\n",
              "      <th>rain</th>\n",
              "      <th>area_trans</th>\n",
              "    </tr>\n",
              "  </thead>\n",
              "  <tbody>\n",
              "    <tr>\n",
              "      <th>0</th>\n",
              "      <td>86.2</td>\n",
              "      <td>26.2</td>\n",
              "      <td>94.3</td>\n",
              "      <td>5.1</td>\n",
              "      <td>8.2</td>\n",
              "      <td>51</td>\n",
              "      <td>6.7</td>\n",
              "      <td>0.0</td>\n",
              "      <td>0.000000</td>\n",
              "    </tr>\n",
              "    <tr>\n",
              "      <th>1</th>\n",
              "      <td>90.6</td>\n",
              "      <td>35.4</td>\n",
              "      <td>669.1</td>\n",
              "      <td>6.7</td>\n",
              "      <td>18.0</td>\n",
              "      <td>33</td>\n",
              "      <td>0.9</td>\n",
              "      <td>0.0</td>\n",
              "      <td>0.000000</td>\n",
              "    </tr>\n",
              "    <tr>\n",
              "      <th>2</th>\n",
              "      <td>90.6</td>\n",
              "      <td>43.7</td>\n",
              "      <td>686.9</td>\n",
              "      <td>6.7</td>\n",
              "      <td>14.6</td>\n",
              "      <td>33</td>\n",
              "      <td>1.3</td>\n",
              "      <td>0.0</td>\n",
              "      <td>0.000000</td>\n",
              "    </tr>\n",
              "    <tr>\n",
              "      <th>3</th>\n",
              "      <td>91.7</td>\n",
              "      <td>33.3</td>\n",
              "      <td>77.5</td>\n",
              "      <td>9.0</td>\n",
              "      <td>8.3</td>\n",
              "      <td>97</td>\n",
              "      <td>4.0</td>\n",
              "      <td>0.2</td>\n",
              "      <td>0.000000</td>\n",
              "    </tr>\n",
              "    <tr>\n",
              "      <th>4</th>\n",
              "      <td>89.3</td>\n",
              "      <td>51.3</td>\n",
              "      <td>102.2</td>\n",
              "      <td>9.6</td>\n",
              "      <td>11.4</td>\n",
              "      <td>99</td>\n",
              "      <td>1.8</td>\n",
              "      <td>0.0</td>\n",
              "      <td>0.000000</td>\n",
              "    </tr>\n",
              "    <tr>\n",
              "      <th>...</th>\n",
              "      <td>...</td>\n",
              "      <td>...</td>\n",
              "      <td>...</td>\n",
              "      <td>...</td>\n",
              "      <td>...</td>\n",
              "      <td>...</td>\n",
              "      <td>...</td>\n",
              "      <td>...</td>\n",
              "      <td>...</td>\n",
              "    </tr>\n",
              "    <tr>\n",
              "      <th>512</th>\n",
              "      <td>81.6</td>\n",
              "      <td>56.7</td>\n",
              "      <td>665.6</td>\n",
              "      <td>1.9</td>\n",
              "      <td>27.8</td>\n",
              "      <td>32</td>\n",
              "      <td>2.7</td>\n",
              "      <td>0.0</td>\n",
              "      <td>2.006871</td>\n",
              "    </tr>\n",
              "    <tr>\n",
              "      <th>513</th>\n",
              "      <td>81.6</td>\n",
              "      <td>56.7</td>\n",
              "      <td>665.6</td>\n",
              "      <td>1.9</td>\n",
              "      <td>21.9</td>\n",
              "      <td>71</td>\n",
              "      <td>5.8</td>\n",
              "      <td>0.0</td>\n",
              "      <td>4.012592</td>\n",
              "    </tr>\n",
              "    <tr>\n",
              "      <th>514</th>\n",
              "      <td>81.6</td>\n",
              "      <td>56.7</td>\n",
              "      <td>665.6</td>\n",
              "      <td>1.9</td>\n",
              "      <td>21.2</td>\n",
              "      <td>70</td>\n",
              "      <td>6.7</td>\n",
              "      <td>0.0</td>\n",
              "      <td>2.498152</td>\n",
              "    </tr>\n",
              "    <tr>\n",
              "      <th>515</th>\n",
              "      <td>94.4</td>\n",
              "      <td>146.0</td>\n",
              "      <td>614.7</td>\n",
              "      <td>11.3</td>\n",
              "      <td>25.6</td>\n",
              "      <td>42</td>\n",
              "      <td>4.0</td>\n",
              "      <td>0.0</td>\n",
              "      <td>0.000000</td>\n",
              "    </tr>\n",
              "    <tr>\n",
              "      <th>516</th>\n",
              "      <td>79.5</td>\n",
              "      <td>3.0</td>\n",
              "      <td>106.7</td>\n",
              "      <td>1.1</td>\n",
              "      <td>11.8</td>\n",
              "      <td>31</td>\n",
              "      <td>4.5</td>\n",
              "      <td>0.0</td>\n",
              "      <td>0.000000</td>\n",
              "    </tr>\n",
              "  </tbody>\n",
              "</table>\n",
              "<p>517 rows × 9 columns</p>\n",
              "</div>\n",
              "      <button class=\"colab-df-convert\" onclick=\"convertToInteractive('df-c7b7d34e-b1ff-4815-814c-2c514cb000d6')\"\n",
              "              title=\"Convert this dataframe to an interactive table.\"\n",
              "              style=\"display:none;\">\n",
              "        \n",
              "  <svg xmlns=\"http://www.w3.org/2000/svg\" height=\"24px\"viewBox=\"0 0 24 24\"\n",
              "       width=\"24px\">\n",
              "    <path d=\"M0 0h24v24H0V0z\" fill=\"none\"/>\n",
              "    <path d=\"M18.56 5.44l.94 2.06.94-2.06 2.06-.94-2.06-.94-.94-2.06-.94 2.06-2.06.94zm-11 1L8.5 8.5l.94-2.06 2.06-.94-2.06-.94L8.5 2.5l-.94 2.06-2.06.94zm10 10l.94 2.06.94-2.06 2.06-.94-2.06-.94-.94-2.06-.94 2.06-2.06.94z\"/><path d=\"M17.41 7.96l-1.37-1.37c-.4-.4-.92-.59-1.43-.59-.52 0-1.04.2-1.43.59L10.3 9.45l-7.72 7.72c-.78.78-.78 2.05 0 2.83L4 21.41c.39.39.9.59 1.41.59.51 0 1.02-.2 1.41-.59l7.78-7.78 2.81-2.81c.8-.78.8-2.07 0-2.86zM5.41 20L4 18.59l7.72-7.72 1.47 1.35L5.41 20z\"/>\n",
              "  </svg>\n",
              "      </button>\n",
              "      \n",
              "  <style>\n",
              "    .colab-df-container {\n",
              "      display:flex;\n",
              "      flex-wrap:wrap;\n",
              "      gap: 12px;\n",
              "    }\n",
              "\n",
              "    .colab-df-convert {\n",
              "      background-color: #E8F0FE;\n",
              "      border: none;\n",
              "      border-radius: 50%;\n",
              "      cursor: pointer;\n",
              "      display: none;\n",
              "      fill: #1967D2;\n",
              "      height: 32px;\n",
              "      padding: 0 0 0 0;\n",
              "      width: 32px;\n",
              "    }\n",
              "\n",
              "    .colab-df-convert:hover {\n",
              "      background-color: #E2EBFA;\n",
              "      box-shadow: 0px 1px 2px rgba(60, 64, 67, 0.3), 0px 1px 3px 1px rgba(60, 64, 67, 0.15);\n",
              "      fill: #174EA6;\n",
              "    }\n",
              "\n",
              "    [theme=dark] .colab-df-convert {\n",
              "      background-color: #3B4455;\n",
              "      fill: #D2E3FC;\n",
              "    }\n",
              "\n",
              "    [theme=dark] .colab-df-convert:hover {\n",
              "      background-color: #434B5C;\n",
              "      box-shadow: 0px 1px 3px 1px rgba(0, 0, 0, 0.15);\n",
              "      filter: drop-shadow(0px 1px 2px rgba(0, 0, 0, 0.3));\n",
              "      fill: #FFFFFF;\n",
              "    }\n",
              "  </style>\n",
              "\n",
              "      <script>\n",
              "        const buttonEl =\n",
              "          document.querySelector('#df-c7b7d34e-b1ff-4815-814c-2c514cb000d6 button.colab-df-convert');\n",
              "        buttonEl.style.display =\n",
              "          google.colab.kernel.accessAllowed ? 'block' : 'none';\n",
              "\n",
              "        async function convertToInteractive(key) {\n",
              "          const element = document.querySelector('#df-c7b7d34e-b1ff-4815-814c-2c514cb000d6');\n",
              "          const dataTable =\n",
              "            await google.colab.kernel.invokeFunction('convertToInteractive',\n",
              "                                                     [key], {});\n",
              "          if (!dataTable) return;\n",
              "\n",
              "          const docLinkHtml = 'Like what you see? Visit the ' +\n",
              "            '<a target=\"_blank\" href=https://colab.research.google.com/notebooks/data_table.ipynb>data table notebook</a>'\n",
              "            + ' to learn more about interactive tables.';\n",
              "          element.innerHTML = '';\n",
              "          dataTable['output_type'] = 'display_data';\n",
              "          await google.colab.output.renderOutput(dataTable, element);\n",
              "          const docLink = document.createElement('div');\n",
              "          docLink.innerHTML = docLinkHtml;\n",
              "          element.appendChild(docLink);\n",
              "        }\n",
              "      </script>\n",
              "    </div>\n",
              "  </div>\n",
              "  "
            ]
          },
          "metadata": {},
          "execution_count": 18
        }
      ]
    },
    {
      "cell_type": "markdown",
      "source": [
        "# Set up data split"
      ],
      "metadata": {
        "id": "0mr_vHSFNVLc"
      }
    },
    {
      "cell_type": "code",
      "source": [
        "# the dependent target value (\"area\" attribute) gets separeted from the rest\n",
        "# both sets become their own numpy array\n",
        "\n",
        "fire_data = df.values[::1,:8]\n",
        "fire_target = df.values[::1,8]"
      ],
      "metadata": {
        "id": "nc9TK0ppJoci"
      },
      "execution_count": 19,
      "outputs": []
    },
    {
      "cell_type": "code",
      "source": [
        "# displaying the values of the independent attributes\n",
        "\n",
        "fire_data"
      ],
      "metadata": {
        "colab": {
          "base_uri": "https://localhost:8080/"
        },
        "id": "L8oJmbiyLJ-u",
        "outputId": "5a3c5ccd-d96e-44ea-dafa-402cb0af6dd4"
      },
      "execution_count": 20,
      "outputs": [
        {
          "output_type": "execute_result",
          "data": {
            "text/plain": [
              "array([[ 86.2,  26.2,  94.3, ...,  51. ,   6.7,   0. ],\n",
              "       [ 90.6,  35.4, 669.1, ...,  33. ,   0.9,   0. ],\n",
              "       [ 90.6,  43.7, 686.9, ...,  33. ,   1.3,   0. ],\n",
              "       ...,\n",
              "       [ 81.6,  56.7, 665.6, ...,  70. ,   6.7,   0. ],\n",
              "       [ 94.4, 146. , 614.7, ...,  42. ,   4. ,   0. ],\n",
              "       [ 79.5,   3. , 106.7, ...,  31. ,   4.5,   0. ]])"
            ]
          },
          "metadata": {},
          "execution_count": 20
        }
      ]
    },
    {
      "cell_type": "code",
      "source": [
        "# displaying the values of the dependent attribute\n",
        "\n",
        "fire_target"
      ],
      "metadata": {
        "colab": {
          "base_uri": "https://localhost:8080/"
        },
        "id": "GzSE6gukNigT",
        "outputId": "6c2310e4-472f-4659-bcc6-2083b06a1bd6"
      },
      "execution_count": 21,
      "outputs": [
        {
          "output_type": "execute_result",
          "data": {
            "text/plain": [
              "array([0.        , 0.        , 0.        , 0.        , 0.        ,\n",
              "       0.        , 0.        , 0.        , 0.        , 0.        ,\n",
              "       0.        , 0.        , 0.        , 0.        , 0.        ,\n",
              "       0.        , 0.        , 0.        , 0.        , 0.        ,\n",
              "       0.        , 0.        , 0.        , 0.        , 0.        ,\n",
              "       0.        , 0.        , 0.        , 0.        , 0.        ,\n",
              "       0.        , 0.        , 0.        , 0.        , 0.        ,\n",
              "       0.        , 0.        , 0.        , 0.        , 0.        ,\n",
              "       0.        , 0.        , 0.        , 0.        , 0.        ,\n",
              "       0.        , 0.        , 0.        , 0.        , 0.        ,\n",
              "       0.        , 0.        , 0.        , 0.        , 0.        ,\n",
              "       0.        , 0.        , 0.        , 0.        , 0.        ,\n",
              "       0.        , 0.        , 0.        , 0.        , 0.        ,\n",
              "       0.        , 0.        , 0.        , 0.        , 0.        ,\n",
              "       0.        , 0.        , 0.        , 0.        , 0.        ,\n",
              "       0.        , 0.        , 0.        , 0.        , 0.        ,\n",
              "       0.        , 0.        , 0.        , 0.        , 0.        ,\n",
              "       0.        , 0.        , 0.        , 0.        , 0.        ,\n",
              "       0.        , 0.        , 0.        , 0.        , 0.        ,\n",
              "       0.        , 0.        , 0.        , 0.        , 0.        ,\n",
              "       0.        , 0.        , 0.        , 0.        , 0.        ,\n",
              "       0.        , 0.        , 0.        , 0.        , 0.        ,\n",
              "       0.        , 0.        , 0.        , 0.        , 0.        ,\n",
              "       0.        , 0.        , 0.        , 0.        , 0.        ,\n",
              "       0.        , 0.        , 0.        , 0.        , 0.        ,\n",
              "       0.        , 0.        , 0.        , 0.        , 0.        ,\n",
              "       0.        , 0.        , 0.        , 0.        , 0.        ,\n",
              "       0.        , 0.        , 0.        , 0.3074847 , 0.35767444,\n",
              "       0.3852624 , 0.43825493, 0.47623418, 0.53649337, 0.57097955,\n",
              "       0.64185389, 0.66782937, 0.67294447, 0.72754861, 0.75141609,\n",
              "       0.78390154, 0.85866162, 0.88789126, 0.90016135, 0.90016135,\n",
              "       0.94000726, 0.95935022, 0.96698385, 0.97077892, 0.98954119,\n",
              "       1.01160091, 1.06471074, 1.07840958, 1.08180517, 1.10194008,\n",
              "       1.1442228 , 1.19088756, 1.25561604, 1.26129787, 1.2669476 ,\n",
              "       1.2725656 , 1.30562646, 1.31908561, 1.403643  , 1.5040774 ,\n",
              "       1.71018782, 1.72455072, 1.73871025, 1.77155676, 1.82937633,\n",
              "       1.84530024, 1.86252854, 1.99877364, 2.05796251, 2.074429  ,\n",
              "       2.08442908, 2.1029139 , 2.11625551, 2.12823171, 2.22354189,\n",
              "       2.23108909, 2.2700619 , 2.27315628, 2.34276688, 2.39880395,\n",
              "       2.3997118 , 2.47905624, 2.48989419, 2.50470928, 2.51122396,\n",
              "       2.52812577, 2.57261223, 2.6426224 , 2.68784749, 2.70738331,\n",
              "       2.74534599, 2.80032548, 2.90142159, 3.00716665, 3.19499288,\n",
              "       3.22803376, 3.29583687, 3.30064013, 3.34462703, 3.38979934,\n",
              "       3.38979934, 3.41707073, 3.44425687, 3.48798651, 3.49225611,\n",
              "       3.49862653, 3.6076694 , 3.63363098, 3.63811234, 3.65609796,\n",
              "       3.90298226, 3.91939576, 4.08260931, 4.17592455, 4.28082413,\n",
              "       4.49412689, 4.56622144, 4.64813389, 4.66964621, 5.04908648,\n",
              "       5.28563731, 5.30797062, 5.36541511, 6.99561963, 0.        ,\n",
              "       0.        , 0.        , 2.40964417, 0.        , 1.35325451,\n",
              "       0.56531381, 0.0861777 , 0.55961579, 0.        , 1.24415459,\n",
              "       0.51879379, 0.21511138, 0.19062036, 0.9242589 , 2.4283363 ,\n",
              "       0.        , 2.19944433, 0.51879379, 0.        , 0.86710049,\n",
              "       2.28747146, 1.45861502, 1.65822808, 0.94000726, 2.02022218,\n",
              "       0.58221562, 0.15700375, 0.        , 0.        , 1.68639895,\n",
              "       0.41871033, 2.32922702, 1.40854497, 2.30058309, 2.50061594,\n",
              "       1.8531681 , 2.93651291, 2.46214966, 3.13679771, 2.37676449,\n",
              "       2.32922702, 3.24921102, 0.        , 0.74193734, 3.22843004,\n",
              "       0.        , 0.        , 0.        , 0.        , 0.        ,\n",
              "       0.        , 2.19722458, 1.29198368, 4.4710672 , 2.02419307,\n",
              "       0.        , 0.64185389, 0.        , 0.        , 0.        ,\n",
              "       0.        , 1.50851199, 0.        , 0.        , 0.        ,\n",
              "       0.        , 0.3435897 , 1.82131827, 0.        , 0.        ,\n",
              "       0.        , 2.72719902, 0.        , 0.        , 0.9477894 ,\n",
              "       0.        , 0.        , 1.56444055, 0.        , 1.68824909,\n",
              "       3.56558124, 2.10535292, 0.69813472, 1.1568812 , 1.69009582,\n",
              "       0.        , 0.        , 0.        , 0.        , 1.46556754,\n",
              "       2.0255132 , 2.81180944, 2.50307395, 1.141033  , 0.        ,\n",
              "       0.        , 0.        , 4.04375278, 2.13771045, 0.90421815,\n",
              "       1.59533899, 0.        , 0.        , 1.1568812 , 1.96009478,\n",
              "       1.92132467, 3.37382618, 0.        , 0.        , 0.97077892,\n",
              "       1.54968791, 2.11745961, 1.10856262, 1.00063188, 1.94161522,\n",
              "       2.64333389, 0.81536481, 0.        , 0.        , 2.2104698 ,\n",
              "       0.73716407, 1.59736533, 0.41871033, 1.36863943, 1.89461685,\n",
              "       3.04594999, 1.01160091, 0.        , 2.61300665, 0.        ,\n",
              "       2.48989419, 0.        , 0.        , 0.        , 2.9601051 ,\n",
              "       3.69759139, 0.        , 5.16837951, 0.        , 0.        ,\n",
              "       2.16676537, 2.8524391 , 1.92570744, 3.78123072, 2.57870053,\n",
              "       2.83321334, 3.24220165, 0.        , 3.39249294, 0.        ,\n",
              "       2.39425228, 3.43977686, 4.27332722, 0.        , 0.        ,\n",
              "       3.96613233, 1.53471437, 1.53255687, 0.        , 0.        ,\n",
              "       2.21484618, 1.78339122, 0.        , 0.        , 1.95160817,\n",
              "       0.        , 1.59938758, 0.        , 2.17475172, 0.        ,\n",
              "       0.        , 1.72633166, 0.96698385, 0.        , 0.        ,\n",
              "       6.61643995, 2.08193842, 0.        , 1.23547147, 1.39871688,\n",
              "       5.22982437, 0.        , 1.98787435, 0.54232429, 1.78507048,\n",
              "       0.        , 0.        , 1.20896035, 0.        , 1.43508453,\n",
              "       0.        , 1.99605993, 0.        , 2.79361609, 0.        ,\n",
              "       0.        , 0.43178242, 0.        , 2.00552586, 0.28517894,\n",
              "       0.        , 0.80200159, 1.47017585, 0.        , 2.39425228,\n",
              "       0.        , 0.        , 0.        , 0.        , 0.        ,\n",
              "       2.00552586, 2.37117788, 0.        , 0.        , 0.        ,\n",
              "       0.        , 0.        , 4.42783617, 1.4632554 , 1.07840958,\n",
              "       0.        , 0.        , 1.54968791, 1.85473427, 1.1442228 ,\n",
              "       2.05923883, 1.43031125, 1.87946505, 2.02946317, 4.12922896,\n",
              "       0.        , 3.67579421, 1.07840958, 4.26717679, 2.40514168,\n",
              "       1.43270073, 1.01523068, 2.12345843, 1.16627094, 5.63310962,\n",
              "       1.32175584, 0.        , 0.82855182, 0.        , 3.3116373 ,\n",
              "       1.12167756, 1.09861229, 2.85647021, 3.8649314 , 0.        ,\n",
              "       0.        , 0.        , 0.        , 3.79143604, 2.26072089,\n",
              "       0.        , 1.327075  , 2.75238601, 3.72665682, 2.46979301,\n",
              "       0.        , 0.        , 0.        , 1.08180517, 3.92375393,\n",
              "       1.91692261, 0.        , 0.        , 0.        , 1.15373159,\n",
              "       0.35767444, 0.        , 2.00687085, 4.01259206, 2.49815188,\n",
              "       0.        , 0.        ])"
            ]
          },
          "metadata": {},
          "execution_count": 21
        }
      ]
    },
    {
      "cell_type": "code",
      "source": [
        "# creation of a function that can split both arrays of independent (data) and dependent (target) variables in to a test and training set while keeping a given ratio and seed\n",
        "\n",
        "def test_train_split(data,target,ratio,seed):\n",
        "  #set the random seed\n",
        "  np.random.seed(seed)\n",
        "\n",
        "  # estasblish a randomized order\n",
        "  order = np.arange(len(data))\n",
        "  np.random.shuffle(order)\n",
        "  # assigning the suffeld order to either array\n",
        "  x = (np.array(data, dtype=object)[order])\n",
        "  y = (np.array(target, dtype=object)[order])\n",
        "\n",
        "  # split the data and target values into train and test sets given the set ratio\n",
        "  split_index = int(len(x) * ratio)\n",
        "\n",
        "  data_train = x[:split_index]\n",
        "  data_test = x[split_index:]\n",
        "  target_train = y[:split_index]\n",
        "  target_test = y[split_index:]\n",
        "\n",
        "  return data_train, data_test, target_train, target_test"
      ],
      "metadata": {
        "id": "7vh7meb2NkS7"
      },
      "execution_count": 22,
      "outputs": []
    },
    {
      "cell_type": "code",
      "source": [
        "# calling the above function with the variables of choice\n",
        "\n",
        "data = fire_data\n",
        "target = fire_target\n",
        "ratio = 0.85\n",
        "seed = 69\n",
        "\n",
        "data_train, data_test, target_train, target_test = test_train_split(data,target,ratio,seed)"
      ],
      "metadata": {
        "id": "FkKomsW5SaZF"
      },
      "execution_count": 23,
      "outputs": []
    },
    {
      "cell_type": "code",
      "source": [
        "# displaying the shape of the functions outcome\n",
        "\n",
        "data_train.shape, data_test.shape, target_train.shape, target_test.shape"
      ],
      "metadata": {
        "id": "zTloQJZtYMt6",
        "outputId": "ecc90061-fb98-4d96-b83e-7a122278a6b0",
        "colab": {
          "base_uri": "https://localhost:8080/"
        }
      },
      "execution_count": 24,
      "outputs": [
        {
          "output_type": "execute_result",
          "data": {
            "text/plain": [
              "((439, 8), (78, 8), (439,), (78,))"
            ]
          },
          "metadata": {},
          "execution_count": 24
        }
      ]
    },
    {
      "cell_type": "markdown",
      "source": [
        "# Model training and data prediction"
      ],
      "metadata": {
        "id": "37lm_SVjPBuR"
      }
    },
    {
      "cell_type": "code",
      "source": [
        "# function that accepts one model type and fits it to the data\n",
        "# output is the fitted model\n",
        "# Multiple Linear Regression is the easiest approach for finding the value of a dependent variable at a certain value of two or more independent variables\n",
        "# \"LinearRegression()\" from Scikit Learn works for more than one variable too\n",
        "\n",
        "def train_model(model):\n",
        "  if model == \"linear\":\n",
        "    clf = linear_model.LinearRegression()\n",
        "    clf = clf.fit(data_train, target_train)\n",
        "  elif model == \"tree\":\n",
        "    clf = tree.DecisionTreeRegressor()\n",
        "    clf = clf.fit(data_train, target_train)\n",
        "  else:\n",
        "      print('Model not found')\n",
        "\n",
        "  return clf"
      ],
      "metadata": {
        "id": "2hm4Q8X1YcrU"
      },
      "execution_count": 25,
      "outputs": []
    },
    {
      "cell_type": "code",
      "source": [
        "# predicting values with the help of the choosen model\n",
        "\n",
        "model = \"linear\"\n",
        "target_pred = train_model(model).predict(data_test)"
      ],
      "metadata": {
        "id": "CnBVyowahOmV"
      },
      "execution_count": 26,
      "outputs": []
    },
    {
      "cell_type": "markdown",
      "source": [
        "# Evaluation"
      ],
      "metadata": {
        "id": "FceeBdNPNwTV"
      }
    },
    {
      "cell_type": "code",
      "source": [
        "# three standard functions for evaluating a models performance\n",
        "\n",
        "def mean_abs_error(target_true,target_pred):\n",
        "    \n",
        "    return np.mean(np.abs(target_true - target_pred))\n",
        "\n",
        "\n",
        "def mean_sqrt_error(target_true,target_pred):\n",
        "    \n",
        "    return np.mean(np.square(target_true - target_pred))\n",
        "\n",
        "\n",
        "def root_mean_sqrt_error(target_true,target_pred):\n",
        "    \n",
        "    return np.sqrt(np.mean(np.square(target_true - target_pred)))"
      ],
      "metadata": {
        "id": "EGEmo9z3tsNz"
      },
      "execution_count": 27,
      "outputs": []
    },
    {
      "cell_type": "code",
      "source": [
        "# evaluation results for the trained model\n",
        "\n",
        "print('The model', '(\"', model, '\")', 'has a Mean Absolute Error (MAE) of:', mean_abs_error(target_test,target_pred))\n",
        "print('The model', '(\"', model, '\")', 'has a Mean Squared Error (MSE) of:', mean_sqrt_error(target_test,target_pred))\n",
        "print('The model', '(\"', model, '\")', 'has a Root Mean Squared Error (RMSE) of:', root_mean_sqrt_error(target_test,target_pred))\n",
        "\n",
        "# With a slightly lower RMSE the Multiple Linear Regression algortithm performs better"
      ],
      "metadata": {
        "id": "J0TLKUy5t-el",
        "outputId": "a5400ced-e91e-4d4c-e910-2af83998aea5",
        "colab": {
          "base_uri": "https://localhost:8080/"
        }
      },
      "execution_count": 28,
      "outputs": [
        {
          "output_type": "stream",
          "name": "stdout",
          "text": [
            "The model (\" linear \") has a Mean Absolute Error (MAE) of: 0.9642323361185364\n",
            "The model (\" linear \") has a Mean Squared Error (MSE) of: 1.1831865692884382\n",
            "The model (\" linear \") has a Root Mean Squared Error (RMSE) of: 1.0877437976327138\n"
          ]
        }
      ]
    },
    {
      "cell_type": "code",
      "source": [
        "# additional information in case of the linear model\n",
        "\n",
        "print('After fitting the model the coefficients became:', train_model(model).coef_)\n",
        "print('The intercept is:', train_model(model).intercept_)"
      ],
      "metadata": {
        "id": "-uAwJQmrdz8x",
        "outputId": "9c443d6a-701f-4015-ed1b-20684c5668a2",
        "colab": {
          "base_uri": "https://localhost:8080/"
        }
      },
      "execution_count": 29,
      "outputs": [
        {
          "output_type": "stream",
          "name": "stdout",
          "text": [
            "After fitting the model the coefficients became: [ 0.00926659  0.00111749  0.00013374 -0.02529756  0.01519875 -0.00291458\n",
            "  0.07410151  0.06105737]\n",
            "The intercept is: -0.10874514695545878\n"
          ]
        }
      ]
    }
  ]
}